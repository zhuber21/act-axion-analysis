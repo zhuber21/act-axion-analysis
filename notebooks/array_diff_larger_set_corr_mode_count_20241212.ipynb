{
 "cells": [
  {
   "cell_type": "markdown",
   "id": "e003852b",
   "metadata": {},
   "source": [
    "Begun 12/12/24\n",
    "\n",
    "Doing all the chi2 tests on all 264 maps after correcting the number of modes for the modes lost by ivar weighting. Using cuts identified in data_quality_larger_set_corrected_mode_count_20241212.ipynb.\n",
    "\n",
    "Results are in angle_calc_1733966436"
   ]
  },
  {
   "cell_type": "code",
   "execution_count": 1,
   "id": "9d0ceeb9",
   "metadata": {},
   "outputs": [],
   "source": [
    "import numpy as np\n",
    "import matplotlib.pyplot as plt\n",
    "from matplotlib import cm\n",
    "from pixell import enmap, enplot, reproject, utils, curvedsky\n",
    "from tqdm import tqdm\n",
    "import pandas as pd\n",
    "import nawrapper as nw\n",
    "import yaml\n",
    "import time\n",
    "import healpy as hp\n",
    "from scipy import optimize as op\n",
    "import os\n",
    "from scipy.stats.distributions import chi2\n",
    "from itertools import combinations"
   ]
  },
  {
   "cell_type": "code",
   "execution_count": 2,
   "id": "2786d9df",
   "metadata": {},
   "outputs": [],
   "source": [
    "# Loading spectra from run\n",
    "spectra_dict = np.load('/home/zbh5/act_analysis/act_axion_analysis/results/angle_calc_1733966436/angle_calc_1733966436_spectra.npy',allow_pickle=True).item()"
   ]
  },
  {
   "cell_type": "code",
   "execution_count": 3,
   "id": "b19a6874",
   "metadata": {},
   "outputs": [
    {
     "name": "stdout",
     "output_type": "stream",
     "text": [
      "264\n",
      "dict_keys(['ell', 'E1xB2', 'E2xB1', 'E1xE1', 'B2xB2', 'E2xE2', 'B1xB1', 'E1xE2', 'B1xB2', 'E1xB1', 'E2xB2', 'binned_nu', 'estimator', 'covariance', 'CAMB_EE', 'CAMB_BB', 'w2_depth1', 'w2_cross', 'w2_ref', 'meas_angle', 'meas_errbar', 'ivar_sum', 'residual_mean', 'residual_sum', 'map_cut'])\n"
     ]
    }
   ],
   "source": [
    "maps = np.array(list(spectra_dict.keys()))\n",
    "n_maps = len(maps)\n",
    "print(n_maps)\n",
    "print(spectra_dict[maps[0]].keys())"
   ]
  },
  {
   "cell_type": "code",
   "execution_count": 4,
   "id": "e0184d16",
   "metadata": {},
   "outputs": [
    {
     "name": "stdout",
     "output_type": "stream",
     "text": [
      "Total number of maps:  264\n",
      "Maps passing galaxy mask cut:  256\n",
      "Maps passing bad fit cut:  256\n",
      "Maps passing residual cut:  115\n",
      "Maps passing ivar cut:  176\n",
      "Maps passing all four cuts:  95\n",
      "[ 20  21  23  24  25  26  27  29  30  37  38  47  48  51  56  59  60  63\n",
      "  64  68  69  70  72  73  75  76  80  81  82  84  85  87  88  89  90  91\n",
      "  93  94  96  97  99 100 105 113 115 116 117 119 120 122 123 128 131 132\n",
      " 136 137 150 151 156 157 159 160 162 163 173 174 175 176 177 179 180 182\n",
      " 183 185 186 187 193 195 196 197 199 205 206 210 218 219 221 227 232 233\n",
      " 243 244 245 247 251]\n"
     ]
    }
   ],
   "source": [
    "# Implementing automatic data cuts\n",
    "cut_flags = np.zeros(n_maps)\n",
    "ivar_sums = np.zeros(n_maps)\n",
    "all_errbars = np.zeros(n_maps)\n",
    "residual_sums = np.zeros(n_maps)\n",
    "angles_rad = np.zeros(n_maps)\n",
    "errbars_rad = np.zeros(n_maps)\n",
    "for i in range(n_maps):\n",
    "    cut_flags[i] = spectra_dict[maps[i]]['map_cut']\n",
    "    all_errbars[i] = spectra_dict[maps[i]]['meas_errbar']\n",
    "    ivar_sums[i] = spectra_dict[maps[i]]['ivar_sum']\n",
    "    residual_sums[i] = spectra_dict[maps[i]]['residual_sum']\n",
    "    angles_rad[i] = np.deg2rad(spectra_dict[maps[i]]['meas_angle'])\n",
    "    errbars_rad[i] = np.deg2rad(spectra_dict[maps[i]]['meas_errbar'])\n",
    "\n",
    "print(\"Total number of maps: \", n_maps)\n",
    "# Identifying maps that weren't cut by the galaxy mask\n",
    "cut_good = np.where(cut_flags != 1)[0]\n",
    "print(\"Maps passing galaxy mask cut: \", len(cut_good))\n",
    "# Using the super small errorbars to identify the failed fits - there were none in this run\n",
    "errbar_good = np.where(all_errbars>0.1)[0]\n",
    "print(\"Maps passing bad fit cut: \", len(errbar_good))\n",
    "# Using residual cutoff of 2000 - cuts come from analysis in data_quality_larger_set_corrected_mode_count_20241212.ipynb\n",
    "residual_good = np.where(residual_sums<2000)[0]\n",
    "print(\"Maps passing residual cut: \", len(residual_good))\n",
    "# Using ivar cutoff of 4.0\n",
    "ivar_good = np.where(ivar_sums>4.0)[0]\n",
    "print(\"Maps passing ivar cut: \", len(ivar_good))\n",
    "# Taking the intersection of these four sets to get those maps that pass all cuts\n",
    "set_pass_all_cuts = np.intersect1d(np.intersect1d(np.intersect1d(cut_good,errbar_good),residual_good),ivar_good)\n",
    "print(\"Maps passing all four cuts: \", len(set_pass_all_cuts))\n",
    "print(set_pass_all_cuts)"
   ]
  },
  {
   "cell_type": "code",
   "execution_count": 5,
   "id": "556ef98b",
   "metadata": {},
   "outputs": [],
   "source": [
    "# Extracting map info and results into separate arrays for ease of access\n",
    "map_arrays = []\n",
    "map_timestamps = []\n",
    "estimators = []\n",
    "covariances = []\n",
    "\n",
    "for i in range(n_maps):\n",
    "    map_arrays.append(maps[i].split('_')[2])\n",
    "    map_timestamps.append(maps[i].split('_')[1])\n",
    "    estimators.append(spectra_dict[maps[i]]['estimator'])\n",
    "    covariances.append(spectra_dict[maps[i]]['covariance'])\n",
    "map_arrays = np.array(map_arrays)\n",
    "map_timestamps = np.array(map_timestamps)\n",
    "estimators = np.array(estimators)\n",
    "covariances = np.array(covariances)"
   ]
  },
  {
   "cell_type": "code",
   "execution_count": 6,
   "id": "d342de8e",
   "metadata": {},
   "outputs": [
    {
     "name": "stdout",
     "output_type": "stream",
     "text": [
      "Total number of maps passing cuts:  95\n",
      "Total number of maps:  264\n",
      "Number of PA4 maps passing cuts:  10\n",
      "Total number of PA4 maps:  88\n",
      "Number of PA5 maps passing cuts:  48\n",
      "Total number of PA5 maps:  92\n",
      "Number of PA6 maps passing cuts:  37\n",
      "Total number of PA6 maps:  84\n",
      "Number of unique timestamps that pass cuts:  49\n"
     ]
    }
   ],
   "source": [
    "good_maps = np.array(maps[set_pass_all_cuts])\n",
    "print(\"Total number of maps passing cuts: \", len(good_maps))\n",
    "print(\"Total number of maps: \", n_maps)\n",
    "print(\"Number of PA4 maps passing cuts: \",len(np.where(map_arrays[set_pass_all_cuts]=='pa4')[0]))\n",
    "print(\"Total number of PA4 maps: \", len(np.where(map_arrays=='pa4')[0]))\n",
    "print(\"Number of PA5 maps passing cuts: \",len(np.where(map_arrays[set_pass_all_cuts]=='pa5')[0]))\n",
    "print(\"Total number of PA5 maps: \", len(np.where(map_arrays=='pa5')[0]))\n",
    "print(\"Number of PA6 maps passing cuts: \",len(np.where(map_arrays[set_pass_all_cuts]=='pa6')[0]))\n",
    "print(\"Total number of PA6 maps: \", len(np.where(map_arrays=='pa6')[0]))\n",
    "good_timestamps = np.array([m.split('_')[1] for m in good_maps])\n",
    "unique_good_timestamps = np.unique(good_timestamps)\n",
    "print(\"Number of unique timestamps that pass cuts: \", len(unique_good_timestamps))"
   ]
  },
  {
   "cell_type": "code",
   "execution_count": 7,
   "id": "22ef35b9",
   "metadata": {},
   "outputs": [
    {
     "name": "stdout",
     "output_type": "stream",
     "text": [
      "Total number of array difference pairs:  55\n",
      "Total number of array tags:  55\n",
      "Number of pa4-pa5 pairs:  10\n",
      "Number of pa4-pa6 pairs:  9\n",
      "Number of pa5-pa6 pairs:  36\n"
     ]
    }
   ],
   "source": [
    "# Generating a list of all pairs of indices that need to be processed\n",
    "# Also makes a list of strings showing which arrays each pair goes with for easy counting\n",
    "all_pairs = []\n",
    "all_pairs_array_tags = []\n",
    "for timestamp in unique_good_timestamps:\n",
    "    indices = set_pass_all_cuts[np.where(good_timestamps==timestamp)[0]] # Getting indices from full list\n",
    "    if len(indices)>1:\n",
    "        pairs = [comb for comb in combinations(indices,r=2)]\n",
    "        for pair in pairs:\n",
    "            all_pairs.append(pair)\n",
    "            all_pairs_array_tags.append(map_arrays[pair[0]]+map_arrays[pair[1]])\n",
    "all_pairs = np.array(all_pairs)\n",
    "all_pairs_array_tags = np.array(all_pairs_array_tags)\n",
    "# Getting indices within all_pairs for each set of arrays\n",
    "pa4pa5_indices = np.where(all_pairs_array_tags=='pa4pa5')[0]\n",
    "pa4pa6_indices = np.where(all_pairs_array_tags=='pa4pa6')[0]\n",
    "pa5pa6_indices = np.where(all_pairs_array_tags=='pa5pa6')[0]\n",
    "print(\"Total number of array difference pairs: \", len(all_pairs))\n",
    "print(\"Total number of array tags: \", len(all_pairs_array_tags))\n",
    "print(\"Number of pa4-pa5 pairs: \", pa4pa5_indices.size)\n",
    "print(\"Number of pa4-pa6 pairs: \", pa4pa6_indices.size)\n",
    "print(\"Number of pa5-pa6 pairs: \", pa5pa6_indices.size)"
   ]
  },
  {
   "cell_type": "code",
   "execution_count": 8,
   "id": "cc995b1a",
   "metadata": {},
   "outputs": [],
   "source": [
    "#maps[all_pairs]"
   ]
  },
  {
   "cell_type": "code",
   "execution_count": 9,
   "id": "d580e7c7",
   "metadata": {},
   "outputs": [],
   "source": [
    "# Forming chi-squared for array difference null test and calculating PTE for each pair\n",
    "chi2_all_pairs = []\n",
    "pte_all_pairs = []\n",
    "est_diff_all_pairs = []\n",
    "cov_sum_all_pairs = []\n",
    "\n",
    "for pair in all_pairs:\n",
    "    est_diff = estimators[pair[0]] - estimators[pair[1]]\n",
    "    cov_sum = covariances[pair[0]] + covariances[pair[1]]\n",
    "    chi2_pair = np.sum(est_diff**2/(cov_sum)) # Assuming expected value of zero for difference of estimators\n",
    "    dof_pair = est_diff.size - 1 # Should be same each time\n",
    "    pte_pair = chi2.sf(chi2_pair,dof_pair)\n",
    "    est_diff_all_pairs.append(est_diff)\n",
    "    cov_sum_all_pairs.append(cov_sum)\n",
    "    chi2_all_pairs.append(chi2_pair)\n",
    "    pte_all_pairs.append(pte_pair)\n",
    "est_diff_all_pairs = np.array(est_diff_all_pairs)\n",
    "cov_sum_all_pairs = np.array(cov_sum_all_pairs)\n",
    "chi2_all_pairs = np.array(chi2_all_pairs)\n",
    "pte_all_pairs = np.array(pte_all_pairs)"
   ]
  },
  {
   "cell_type": "code",
   "execution_count": 10,
   "id": "05c2c431",
   "metadata": {},
   "outputs": [
    {
     "data": {
      "image/png": "[encoded data removed]",
      "text/plain": [
       "<Figure size 640x480 with 1 Axes>"
      ]
     },
     "metadata": {},
     "output_type": "display_data"
    },
    {
     "data": {
      "image/png": "[encoded data removed]",
      "text/plain": [
       "<Figure size 640x480 with 1 Axes>"
      ]
     },
     "metadata": {},
     "output_type": "display_data"
    },
    {
     "data": {
      "image/png": "[encoded data removed]",
      "text/plain": [
       "<Figure size 640x480 with 1 Axes>"
      ]
     },
     "metadata": {},
     "output_type": "display_data"
    },
    {
     "data": {
      "image/png": "[encoded data removed]",
      "text/plain": [
       "<Figure size 640x480 with 1 Axes>"
      ]
     },
     "metadata": {},
     "output_type": "display_data"
    }
   ],
   "source": [
    "# Making PTE distribution plots \n",
    "# All pairs\n",
    "plt.hist(pte_all_pairs,bins=10,range=(0.0,1.0))\n",
    "plt.title(\"PTE for all pairs of arrays\")\n",
    "plt.show()\n",
    "plt.close()\n",
    "# PA4-PA5\n",
    "plt.hist(pte_all_pairs[pa4pa5_indices],bins=10,range=(0.0,1.0))\n",
    "plt.title(\"PTE for PA4-PA5\")\n",
    "plt.show()\n",
    "plt.close()\n",
    "# PA4-PA6\n",
    "plt.hist(pte_all_pairs[pa4pa6_indices],bins=10,range=(0.0,1.0))\n",
    "plt.title(\"PTE for PA4-PA6\")\n",
    "plt.show()\n",
    "plt.close()\n",
    "# PA5-PA6\n",
    "plt.hist(pte_all_pairs[pa5pa6_indices],bins=10,range=(0.0,1.0))\n",
    "plt.title(\"PTE for PA5-PA6\")\n",
    "plt.show()\n",
    "plt.close()"
   ]
  },
  {
   "cell_type": "code",
   "execution_count": 11,
   "id": "466a7caf",
   "metadata": {},
   "outputs": [],
   "source": [
    "# Calculating chi2 for each map compared to theory for the best fit angle\n",
    "# for all maps that pass cuts\n",
    "chi2_good_maps = []\n",
    "pte_good_maps = []\n",
    "\n",
    "test_CAMB_EE = spectra_dict[maps[0]]['CAMB_EE']\n",
    "\n",
    "for idx in set_pass_all_cuts:\n",
    "    null = estimators[idx] - test_CAMB_EE*np.sin(2*angles_rad[idx])\n",
    "    sum_cov = covariances[idx] + (test_CAMB_EE*np.sin(2*errbars_rad[idx]))**2 # correct in small angle approx, I think\n",
    "    chi2_good_map = np.sum(null**2/(1.0*sum_cov))\n",
    "    dof_good_map = null.size - 1 # Should be the same each time\n",
    "    pte_good_map = chi2.sf(chi2_good_map,dof_good_map)\n",
    "    chi2_good_maps.append(chi2_good_map)\n",
    "    pte_good_maps.append(pte_good_map)\n",
    "chi2_good_maps = np.array(chi2_good_maps)\n",
    "pte_good_maps = np.array(pte_good_maps)"
   ]
  },
  {
   "cell_type": "code",
   "execution_count": 12,
   "id": "84e8eab4",
   "metadata": {},
   "outputs": [
    {
     "data": {
      "image/png": "[encoded data removed]",
      "text/plain": [
       "<Figure size 640x480 with 1 Axes>"
      ]
     },
     "metadata": {},
     "output_type": "display_data"
    }
   ],
   "source": [
    "plt.hist(pte_good_maps,bins=10,range=(0.0,1.0))\n",
    "plt.title(\"PTE for estimator-theory, all maps that pass cuts\")\n",
    "plt.show()\n",
    "plt.close()"
   ]
  },
  {
   "cell_type": "code",
   "execution_count": null,
   "id": "1f54aa27",
   "metadata": {},
   "outputs": [],
   "source": []
  }
 ],
 "metadata": {
  "kernelspec": {
   "display_name": "Python 3 (ipykernel)",
   "language": "python",
   "name": "python3"
  },
  "language_info": {
   "codemirror_mode": {
    "name": "ipython",
    "version": 3
   },
   "file_extension": ".py",
   "mimetype": "text/x-python",
   "name": "python",
   "nbconvert_exporter": "python",
   "pygments_lexer": "ipython3",
   "version": "3.10.9"
  }
 },
 "nbformat": 4,
 "nbformat_minor": 5
}
