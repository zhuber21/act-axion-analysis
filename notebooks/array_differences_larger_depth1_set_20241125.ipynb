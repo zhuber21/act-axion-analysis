{
 "cells": [
  {
   "cell_type": "markdown",
   "id": "35f39aaf",
   "metadata": {},
   "source": [
    "Implementing test of getting an angle for the difference betweeen maps of the same time/area but different arrays. Only checking situations where the maps are both good by using the full set of cuts\n",
    "\n",
    "The method is as follows: I take the difference between the estimators for the two arrays and form a chi^2 by squaring this difference (assuming a mean of zero) and dividing by 2\\*covariance where the covariance is the sum of the covariances for the two arrays, then use this to calculate the chi2 survival function with df = nbins-1.\n",
    "\n",
    "I am using the ivar weighted data with the galaxy mask implemented in angle_calc_1730955668 (from 11/07/24)"
   ]
  },
  {
   "cell_type": "code",
   "execution_count": 23,
   "id": "860b9235",
   "metadata": {},
   "outputs": [],
   "source": [
    "import numpy as np\n",
    "import matplotlib.pyplot as plt\n",
    "from matplotlib import cm\n",
    "from pixell import enmap, enplot, reproject, utils, curvedsky\n",
    "from tqdm import tqdm\n",
    "import pandas as pd\n",
    "import nawrapper as nw\n",
    "import yaml\n",
    "import time\n",
    "import healpy as hp\n",
    "from scipy import optimize as op\n",
    "import os\n",
    "from scipy.stats.distributions import chi2\n",
    "from itertools import combinations"
   ]
  },
  {
   "cell_type": "code",
   "execution_count": 2,
   "id": "59dc7f3c",
   "metadata": {},
   "outputs": [],
   "source": [
    "# Loading spectra from run\n",
    "spectra_dict = np.load('/home/zbh5/act_analysis/act_axion_analysis/results/angle_calc_1730955668/angle_calc_1730955668_spectra.npy',allow_pickle=True).item()"
   ]
  },
  {
   "cell_type": "code",
   "execution_count": 3,
   "id": "dcc9a249",
   "metadata": {},
   "outputs": [
    {
     "name": "stdout",
     "output_type": "stream",
     "text": [
      "264\n",
      "dict_keys(['ell', 'E1xB2', 'E2xB1', 'E1xE1', 'B2xB2', 'E2xE2', 'B1xB1', 'E1xE2', 'B1xB2', 'E1xB1', 'E2xB2', 'binned_nu', 'estimator', 'covariance', 'CAMB_EE', 'CAMB_BB', 'w2_depth1', 'w2_cross', 'w2_ref', 'meas_angle', 'meas_errbar', 'ivar_sum', 'residual_mean', 'residual_sum', 'map_cut'])\n"
     ]
    }
   ],
   "source": [
    "maps = np.array(list(spectra_dict.keys()))\n",
    "n_maps = len(maps)\n",
    "print(n_maps)\n",
    "print(spectra_dict[maps[0]].keys())"
   ]
  },
  {
   "cell_type": "markdown",
   "id": "b8b865b9",
   "metadata": {},
   "source": [
    "Because this data set still has a typo in the residual_sum variable (which has already been fixed in the code and so won't affect all future data sets), I need to fix that variable for the cuts to work correctly."
   ]
  },
  {
   "cell_type": "code",
   "execution_count": 4,
   "id": "0666af48",
   "metadata": {},
   "outputs": [],
   "source": [
    "def estimator_likelihood(angle, estimator, covariance, ClEE):\n",
    "    \"\"\"For a given difference in angle between the depth-1 map (map 1) and the coadd (map 2),\n",
    "       returns the value of the normalized likelihood for our estimator.\n",
    "       \n",
    "       ClEE is the theory EE spectrum from CAMB\"\"\"\n",
    "\n",
    "    numerator = (estimator - ClEE*np.sin(2*angle))**2\n",
    "    denominator = 2*covariance\n",
    "    likelihood = np.exp(-np.sum(numerator/denominator))\n",
    "    return likelihood\n",
    "\n",
    "def gaussian(x,mean,sigma):\n",
    "    \"\"\"Normalized Gaussian for curve_fit\"\"\"\n",
    "    amp = 1.0\n",
    "    return amp*np.exp(-(x-mean)**2/(2*sigma**2))\n",
    "\n",
    "def gaussian_fit_curvefit(angles,data):\n",
    "    \"\"\"\n",
    "        Uses scipy.optimize.curve_fit() to fit a Gaussian to the likelihood to\n",
    "        get the mean and standard deviation.\n",
    "\n",
    "        Assumes everything is in radians.\n",
    "    \"\"\"\n",
    "    guess = [1.0*np.pi/180.0, 5.0*np.pi/180.0] # Mean=1, stddev=5 worked well for 73 test maps\n",
    "    popt, pcov = op.curve_fit(gaussian,angles,data,guess,maxfev=50000)\n",
    "    mean = popt[0]\n",
    "    std_dev = np.abs(popt[1])\n",
    "    return mean, std_dev\n",
    "\n",
    "def sample_likelihood_and_fit(estimator,covariance,theory_ClEE,angle_min_deg=-20.0,angle_max_deg=20.0,\n",
    "                              num_pts=10000,use_curvefit=True,plot_like=False,output_dir=None,map_fname=None):\n",
    "    \"\"\"\n",
    "       Samples likelihood for a range of angles and returns the best fit for the\n",
    "       mean and std dev of the resulting Gaussian in degrees.  \n",
    "       Has the option to do the fitting with scipy.optimize.curve_fit() (set use_curvefit=True)\n",
    "       or a method using moments of the Gaussian. The moments method is faster but less\n",
    "       accurate when the likelihood deviates from Gaussianity in any way.\n",
    "    \"\"\"\n",
    "    if(angle_min_deg >= angle_max_deg): \n",
    "        raise ValueError(\"The min angle must be smaller than the max!\")\n",
    "    angles_deg = np.linspace(angle_min_deg,angle_max_deg,num=num_pts)\n",
    "    angles_rad = np.deg2rad(angles_deg)\n",
    "    \n",
    "    bin_sampled_likelihood = [estimator_likelihood(angle,estimator,covariance,theory_ClEE) for angle in angles_rad]\n",
    "    norm_sampled_likelihood = bin_sampled_likelihood/np.max(bin_sampled_likelihood)\n",
    "    \n",
    "    if use_curvefit:\n",
    "        fit_values = gaussian_fit_curvefit(angles_rad,norm_sampled_likelihood)\n",
    "        fit_values_deg = [np.rad2deg(fit_values[0]), np.rad2deg(fit_values[1])]\n",
    "        # Could add some flag or option to redo the fit for a given map if curve_fit() returns\n",
    "        # a bad stddev value from failing to fit - for now I will leave it so I can see easily by the stddev that it fails\n",
    "    else:\n",
    "        fit_values = gaussian_fit_moment(angles_rad,norm_sampled_likelihood)\n",
    "        fit_values_deg = [np.rad2deg(fit_values[0]), np.rad2deg(fit_values[1])]\n",
    "\n",
    "    # Calculating mean and sum of abs of residual between likelihood and best fit Gaussian\n",
    "    # within 1 sigma of mean value - two possible ways of identifying and cutting poor S/N or bad fits\n",
    "    residual = norm_sampled_likelihood - gaussian(angles_rad,fit_values[0],fit_values[1])\n",
    "    minus_sigma_idx = np.searchsorted(angles_rad, fit_values[0]-fit_values[1])\n",
    "    plus_sigma_idx = np.searchsorted(angles_rad, fit_values[0]+fit_values[1])\n",
    "    residual_mean = np.mean(residual[minus_sigma_idx:plus_sigma_idx])\n",
    "    residual_sum = np.sum(np.abs(residual[minus_sigma_idx:plus_sigma_idx]))\n",
    "\n",
    "    if plot_like:\n",
    "        map_name = os.path.split(map_fname)[1][:-9] # removing \"_map.fits\"\n",
    "        plot_likelihood(output_dir, map_name, angles_deg, norm_sampled_likelihood,fit_values_deg,residual)\n",
    "\n",
    "    return fit_values_deg, residual_mean, residual_sum"
   ]
  },
  {
   "cell_type": "code",
   "execution_count": 5,
   "id": "2bfbf00b",
   "metadata": {},
   "outputs": [
    {
     "name": "stderr",
     "output_type": "stream",
     "text": [
      "/home/zbh5/anaconda3/envs/act_analysis/lib/python3.10/site-packages/numpy/core/fromnumeric.py:3464: RuntimeWarning: Mean of empty slice.\n",
      "  return _methods._mean(a, axis=axis, dtype=dtype,\n",
      "/home/zbh5/anaconda3/envs/act_analysis/lib/python3.10/site-packages/numpy/core/_methods.py:192: RuntimeWarning: invalid value encountered in scalar divide\n",
      "  ret = ret.dtype.type(ret / rcount)\n"
     ]
    }
   ],
   "source": [
    "test_CAMB_EE = spectra_dict[maps[0]]['CAMB_EE']\n",
    "residual_sums_corr = 9999*np.ones(n_maps)\n",
    "residual_means_corr = 9999*np.ones(n_maps)\n",
    "\n",
    "map_nums = np.arange(n_maps)\n",
    "for map_num in map_nums:\n",
    "    if spectra_dict[maps[map_num]]['map_cut'] != 1:\n",
    "        results,res_mean,res_sum = sample_likelihood_and_fit(spectra_dict[maps[map_num]]['estimator'],\n",
    "                                                     spectra_dict[maps[map_num]]['covariance'],\n",
    "                                                     test_CAMB_EE,angle_min_deg=-50.0,\n",
    "                                    angle_max_deg=50.0,num_pts=200000,plot_like=False,map_fname='map '+str(map_num))\n",
    "        residual_sums_corr[map_num] = res_sum\n",
    "        residual_means_corr[map_num] = res_mean"
   ]
  },
  {
   "cell_type": "code",
   "execution_count": 7,
   "id": "d01705f5",
   "metadata": {},
   "outputs": [],
   "source": [
    "# Investigating trends in residual_sum_corr\n",
    "#plt.plot(residual_sums_corr)\n",
    "#plt.title(\"Sum of Gaussian residuals to likelihood within 1 sigma\")\n",
    "#plt.ylabel(\"Residual sum corrected\")\n",
    "#plt.xlabel(\"Map index in list\")\n",
    "#plt.show()\n",
    "#plt.close()"
   ]
  },
  {
   "cell_type": "code",
   "execution_count": 11,
   "id": "ad1c7a47",
   "metadata": {},
   "outputs": [
    {
     "name": "stdout",
     "output_type": "stream",
     "text": [
      "Total number of maps:  264\n",
      "Maps passing galaxy mask cut:  256\n",
      "Maps passing bad fit cut:  247\n",
      "Maps passing residual cut:  181\n",
      "Maps passing ivar cut:  202\n",
      "Maps passing all four cuts:  166\n",
      "[  0   1   2   6   7   8  10  18  19  20  21  22  23  24  25  26  27  28\n",
      "  29  30  37  38  39  47  48  49  51  56  57  58  59  60  61  62  63  64\n",
      "  66  67  68  69  70  71  72  73  74  75  76  78  79  80  81  82  83  84\n",
      "  85  86  87  88  89  90  91  92  93  94  96  97  98  99 100 102 104 105\n",
      " 112 113 114 115 116 117 118 119 120 121 122 123 128 130 131 132 134 136\n",
      " 137 141 142 143 144 145 149 150 151 152 153 154 155 156 157 158 159 160\n",
      " 161 162 163 173 174 175 176 177 179 180 181 182 183 185 186 187 189 190\n",
      " 193 195 196 197 198 199 200 201 202 203 204 205 206 210 211 212 213 217\n",
      " 218 219 221 222 224 225 227 228 231 232 233 243 244 245 247 250 251 254\n",
      " 255 258 259 263]\n"
     ]
    }
   ],
   "source": [
    "# Implementing automatic data cuts\n",
    "cut_flags = np.zeros(n_maps)\n",
    "ivar_sums = np.zeros(n_maps)\n",
    "all_errbars = np.zeros(n_maps)\n",
    "for i in range(n_maps):\n",
    "    cut_flags[i] = spectra_dict[maps[i]]['map_cut']\n",
    "    all_errbars[i] = spectra_dict[maps[i]]['meas_errbar']\n",
    "    ivar_sums[i] = spectra_dict[maps[i]]['ivar_sum']\n",
    "    #residual_sums[i] = spectra_dict[maps[i]]['residual_sum'] # DON'T USE THIS HERE - use residual_sums_corr!\n",
    "\n",
    "print(\"Total number of maps: \", n_maps)\n",
    "# Identifying maps that weren't cut by the galaxy mask\n",
    "cut_good = np.where(cut_flags != 1)[0]\n",
    "print(\"Maps passing galaxy mask cut: \", len(cut_good))\n",
    "# Using the super small errorbars to identify the failed fits\n",
    "errbar_good = np.where(all_errbars>0.1)[0]\n",
    "print(\"Maps passing bad fit cut: \", len(errbar_good))\n",
    "# Using residual cutoff of 1500\n",
    "residual_good = np.where(residual_sums_corr<1500)[0]\n",
    "print(\"Maps passing residual cut: \", len(residual_good))\n",
    "# Using ivar cutoff of 1.5\n",
    "ivar_good = np.where(ivar_sums>1.5)[0]\n",
    "print(\"Maps passing ivar cut: \", len(ivar_good))\n",
    "# Taking the intersection of these four sets to get those maps that pass all cuts\n",
    "set_pass_all_cuts = np.intersect1d(np.intersect1d(np.intersect1d(cut_good,errbar_good),residual_good),ivar_good)\n",
    "print(\"Maps passing all four cuts: \", len(set_pass_all_cuts))\n",
    "print(set_pass_all_cuts)"
   ]
  },
  {
   "cell_type": "code",
   "execution_count": 56,
   "id": "ec3eb3c5",
   "metadata": {},
   "outputs": [],
   "source": [
    "# Extracting map info and results into separate arrays for ease of access\n",
    "map_arrays = []\n",
    "map_timestamps = []\n",
    "estimators = []\n",
    "covariances = []\n",
    "\n",
    "for i in range(n_maps):\n",
    "    map_arrays.append(maps[i].split('_')[2])\n",
    "    map_timestamps.append(maps[i].split('_')[1])\n",
    "    estimators.append(spectra_dict[maps[i]]['estimator'])\n",
    "    covariances.append(spectra_dict[maps[i]]['covariance'])\n",
    "map_arrays = np.array(map_arrays)\n",
    "map_timestamps = np.array(map_timestamps)\n",
    "estimators = np.array(estimators)\n",
    "covariances = np.array(covariances)"
   ]
  },
  {
   "cell_type": "code",
   "execution_count": 13,
   "id": "9134c97c",
   "metadata": {},
   "outputs": [
    {
     "name": "stdout",
     "output_type": "stream",
     "text": [
      "Total number of maps passing cuts:  166\n",
      "Number of unique timestamps that pass cuts:  69\n"
     ]
    }
   ],
   "source": [
    "good_maps = np.array(maps[set_pass_all_cuts])\n",
    "print(\"Total number of maps passing cuts: \", len(good_maps))\n",
    "good_timestamps = np.array([m.split('_')[1] for m in good_maps])\n",
    "unique_good_timestamps = np.unique(good_timestamps)\n",
    "print(\"Number of unique timestamps that pass cuts: \", len(unique_good_timestamps))"
   ]
  },
  {
   "cell_type": "code",
   "execution_count": 57,
   "id": "8bffaf68",
   "metadata": {},
   "outputs": [
    {
     "name": "stdout",
     "output_type": "stream",
     "text": [
      "1494726991\n",
      "['1494463440' '1494463440' '1494463440' '1494479992' '1494479992'\n",
      " '1494479992' '1494565020' '1494726991' '1494735603' '1494735603']\n",
      "[6 7 8]\n",
      "['pa4' 'pa5' 'pa6']\n"
     ]
    }
   ],
   "source": [
    "print(unique_good_timestamps[3])\n",
    "print(good_timestamps[0:10])\n",
    "indices = set_pass_all_cuts[np.where(good_timestamps==unique_good_timestamps[1])[0]]\n",
    "print(indices)\n",
    "print(map_arrays[indices])"
   ]
  },
  {
   "cell_type": "code",
   "execution_count": 63,
   "id": "2df72d1f",
   "metadata": {},
   "outputs": [],
   "source": [
    "# Generating a list of all pairs of indices that need to be processed\n",
    "# Also makes a list of strings showing which arrays each pair goes with for easy counting\n",
    "all_pairs = []\n",
    "all_pairs_array_tags = []\n",
    "for timestamp in unique_good_timestamps:\n",
    "    indices = set_pass_all_cuts[np.where(good_timestamps==timestamp)[0]] # Getting indices from full list\n",
    "    if len(indices)>1:\n",
    "        pairs = [comb for comb in combinations(indices,r=2)]\n",
    "        for pair in pairs:\n",
    "            all_pairs.append(pair)\n",
    "            all_pairs_array_tags.append(map_arrays[pair[0]]+map_arrays[pair[1]])\n",
    "all_pairs = np.array(all_pairs)\n",
    "all_pairs_array_tags = np.array(all_pairs_array_tags)"
   ]
  },
  {
   "cell_type": "code",
   "execution_count": 81,
   "id": "65f65f82",
   "metadata": {},
   "outputs": [
    {
     "name": "stdout",
     "output_type": "stream",
     "text": [
      "<class 'numpy.ndarray'>\n"
     ]
    }
   ],
   "source": [
    "# Getting indices within all_pairs for each set of arrays\n",
    "pa4pa5_indices = np.where(all_pairs_array_tags=='pa4pa5')[0]\n",
    "pa4pa6_indices = np.where(all_pairs_array_tags=='pa4pa6')[0]\n",
    "pa5pa6_indices = np.where(all_pairs_array_tags=='pa5pa6')[0]\n",
    "print(type(pa4pa5_indices))"
   ]
  },
  {
   "cell_type": "code",
   "execution_count": 77,
   "id": "518f1065",
   "metadata": {},
   "outputs": [
    {
     "name": "stdout",
     "output_type": "stream",
     "text": [
      "Total number of array difference pairs:  137\n",
      "Total number of array tags:  137\n",
      "Number of pa4-pa5 pairs:  44\n",
      "Number of pa4-pa6 pairs:  40\n",
      "Number of pa5-pa6 pairs:  53\n"
     ]
    }
   ],
   "source": [
    "print(\"Total number of array difference pairs: \", len(all_pairs))\n",
    "print(\"Total number of array tags: \", len(all_pairs_array_tags))\n",
    "print(\"Number of pa4-pa5 pairs: \", pa4pa5_indices.size)\n",
    "print(\"Number of pa4-pa6 pairs: \", pa4pa6_indices.size)\n",
    "print(\"Number of pa5-pa6 pairs: \", pa5pa6_indices.size)"
   ]
  },
  {
   "cell_type": "code",
   "execution_count": 71,
   "id": "2f050a12",
   "metadata": {},
   "outputs": [
    {
     "data": {
      "text/plain": [
       "array([-1.40473031e-05,  1.60604091e-04,  4.14370645e-06, -3.02660071e-05,\n",
       "       -9.88406252e-06, -7.30972741e-05, -5.57111347e-05,  3.15224974e-05,\n",
       "        9.30771131e-06, -3.57261525e-05])"
      ]
     },
     "execution_count": 71,
     "metadata": {},
     "output_type": "execute_result"
    }
   ],
   "source": [
    "estimators[all_pairs[10][0]]"
   ]
  },
  {
   "cell_type": "code",
   "execution_count": 87,
   "id": "64c5b89b",
   "metadata": {},
   "outputs": [],
   "source": [
    "# Forming chi-squared and calculating PTE for each pair\n",
    "chi2_all_pairs = []\n",
    "pte_all_pairs = []\n",
    "\n",
    "for pair in all_pairs:\n",
    "    est_diff = estimators[pair[0]] - estimators[pair[1]]\n",
    "    cov_sum = covariances[pair[0]] + covariances[pair[1]]\n",
    "    chi2_pair = np.sum(est_diff**2/(2*cov_sum)) # Assuming expected value of zero for difference of estimators\n",
    "    dof_pair = est_diff.size - 1 # Should be same each time\n",
    "    pte_pair = chi2.sf(chi2_pair,dof_pair)\n",
    "    chi2_all_pairs.append(chi2_pair)\n",
    "    pte_all_pairs.append(pte_pair)\n",
    "chi2_all_pairs = np.array(chi2_all_pairs)\n",
    "pte_all_pairs = np.array(pte_all_pairs)"
   ]
  },
  {
   "cell_type": "code",
   "execution_count": 83,
   "id": "eef3df3f",
   "metadata": {},
   "outputs": [
    {
     "data": {
      "text/plain": [
       "array([0.60713493, 0.81253127, 0.77973287, 0.60437066, 0.32001988,\n",
       "       0.2932067 , 0.73633867, 0.6893867 , 0.76455034, 0.84552196,\n",
       "       0.97574272, 0.92673488, 0.65536314, 0.90789314, 0.93474295,\n",
       "       0.07314648, 0.55717846, 0.63300236, 0.93229724, 0.86661424,\n",
       "       0.82795876, 0.51138498, 0.84149588, 0.73454799, 0.55210009,\n",
       "       0.76876367, 0.78716698, 0.52751057, 0.58362844, 0.66711664,\n",
       "       0.03064017, 0.97861929, 0.03621825, 0.94045519, 0.93527711,\n",
       "       0.99037182, 0.95694983, 0.73911809, 0.89826536, 0.56423328,\n",
       "       0.67126819, 0.75164758, 0.63031691, 0.45164436])"
      ]
     },
     "execution_count": 83,
     "metadata": {},
     "output_type": "execute_result"
    }
   ],
   "source": [
    "pte_all_pairs[pa4pa5_indices]"
   ]
  },
  {
   "cell_type": "code",
   "execution_count": 91,
   "id": "f999cb93",
   "metadata": {},
   "outputs": [
    {
     "data": {
      "image/png": "[encoded data removed]",
      "text/plain": [
       "<Figure size 640x480 with 1 Axes>"
      ]
     },
     "metadata": {},
     "output_type": "display_data"
    },
    {
     "data": {
      "image/png": "[encoded data removed]",
      "text/plain": [
       "<Figure size 640x480 with 1 Axes>"
      ]
     },
     "metadata": {},
     "output_type": "display_data"
    },
    {
     "data": {
      "image/png": "[encoded data removed]",
      "text/plain": [
       "<Figure size 640x480 with 1 Axes>"
      ]
     },
     "metadata": {},
     "output_type": "display_data"
    },
    {
     "data": {
      "image/png": "[encoded data removed]",
      "text/plain": [
       "<Figure size 640x480 with 1 Axes>"
      ]
     },
     "metadata": {},
     "output_type": "display_data"
    }
   ],
   "source": [
    "# Making PTE distribution plots \n",
    "\n",
    "# All pairs\n",
    "plt.hist(pte_all_pairs,bins=10,range=(0.0,1.0))\n",
    "plt.title(\"PTE for all pairs of arrays\")\n",
    "plt.show()\n",
    "plt.close()\n",
    "\n",
    "# PA4-PA5\n",
    "plt.hist(pte_all_pairs[pa4pa5_indices],bins=10,range=(0.0,1.0))\n",
    "plt.title(\"PTE for PA4-PA5\")\n",
    "plt.show()\n",
    "plt.close()\n",
    "\n",
    "# PA4-PA6\n",
    "plt.hist(pte_all_pairs[pa4pa6_indices],bins=10,range=(0.0,1.0))\n",
    "plt.title(\"PTE for PA4-PA6\")\n",
    "plt.show()\n",
    "plt.close()\n",
    "\n",
    "# PA5-PA6\n",
    "plt.hist(pte_all_pairs[pa5pa6_indices],bins=10,range=(0.0,1.0))\n",
    "plt.title(\"PTE for PA5-PA6\")\n",
    "plt.show()\n",
    "plt.close()"
   ]
  },
  {
   "cell_type": "code",
   "execution_count": 93,
   "id": "51f5f367",
   "metadata": {},
   "outputs": [
    {
     "data": {
      "text/plain": [
       "array([['depth1_1494463440_pa5_f150_map.fits',\n",
       "        'depth1_1494463440_pa6_f150_map.fits'],\n",
       "       ['depth1_1494479992_pa5_f150_map.fits',\n",
       "        'depth1_1494479992_pa6_f150_map.fits'],\n",
       "       ['depth1_1494735603_pa5_f150_map.fits',\n",
       "        'depth1_1494735603_pa6_f150_map.fits'],\n",
       "       ['depth1_1494743515_pa5_f150_map.fits',\n",
       "        'depth1_1494743515_pa6_f150_map.fits'],\n",
       "       ['depth1_1494761700_pa5_f150_map.fits',\n",
       "        'depth1_1494761700_pa6_f150_map.fits'],\n",
       "       ['depth1_1513422389_pa5_f150_map.fits',\n",
       "        'depth1_1513422389_pa6_f150_map.fits'],\n",
       "       ['depth1_1513445778_pa5_f150_map.fits',\n",
       "        'depth1_1513445778_pa6_f150_map.fits'],\n",
       "       ['depth1_1513481732_pa5_f150_map.fits',\n",
       "        'depth1_1513481732_pa6_f150_map.fits'],\n",
       "       ['depth1_1513948346_pa5_f150_map.fits',\n",
       "        'depth1_1513948346_pa6_f150_map.fits'],\n",
       "       ['depth1_1513997690_pa5_f150_map.fits',\n",
       "        'depth1_1513997690_pa6_f150_map.fits'],\n",
       "       ['depth1_1514032657_pa5_f150_map.fits',\n",
       "        'depth1_1514032657_pa6_f150_map.fits'],\n",
       "       ['depth1_1514085395_pa5_f150_map.fits',\n",
       "        'depth1_1514085395_pa6_f150_map.fits'],\n",
       "       ['depth1_1514095540_pa5_f150_map.fits',\n",
       "        'depth1_1514095540_pa6_f150_map.fits'],\n",
       "       ['depth1_1514113590_pa5_f150_map.fits',\n",
       "        'depth1_1514113590_pa6_f150_map.fits'],\n",
       "       ['depth1_1514120675_pa5_f150_map.fits',\n",
       "        'depth1_1514120675_pa6_f150_map.fits'],\n",
       "       ['depth1_1514157149_pa5_f150_map.fits',\n",
       "        'depth1_1514157149_pa6_f150_map.fits'],\n",
       "       ['depth1_1514164714_pa5_f150_map.fits',\n",
       "        'depth1_1514164714_pa6_f150_map.fits'],\n",
       "       ['depth1_1514192734_pa5_f150_map.fits',\n",
       "        'depth1_1514192734_pa6_f150_map.fits'],\n",
       "       ['depth1_1514204984_pa5_f150_map.fits',\n",
       "        'depth1_1514204984_pa6_f150_map.fits'],\n",
       "       ['depth1_1514243670_pa5_f150_map.fits',\n",
       "        'depth1_1514243670_pa6_f150_map.fits'],\n",
       "       ['depth1_1514277406_pa5_f150_map.fits',\n",
       "        'depth1_1514277406_pa6_f150_map.fits'],\n",
       "       ['depth1_1514286389_pa5_f150_map.fits',\n",
       "        'depth1_1514286389_pa6_f150_map.fits'],\n",
       "       ['depth1_1514293005_pa5_f150_map.fits',\n",
       "        'depth1_1514293005_pa6_f150_map.fits'],\n",
       "       ['depth1_1514426261_pa5_f150_map.fits',\n",
       "        'depth1_1514426261_pa6_f150_map.fits'],\n",
       "       ['depth1_1514439491_pa5_f150_map.fits',\n",
       "        'depth1_1514439491_pa6_f150_map.fits'],\n",
       "       ['depth1_1514459190_pa5_f150_map.fits',\n",
       "        'depth1_1514459190_pa6_f150_map.fits'],\n",
       "       ['depth1_1514465335_pa5_f150_map.fits',\n",
       "        'depth1_1514465335_pa6_f150_map.fits'],\n",
       "       ['depth1_1514604851_pa5_f150_map.fits',\n",
       "        'depth1_1514604851_pa6_f150_map.fits'],\n",
       "       ['depth1_1514638410_pa5_f150_map.fits',\n",
       "        'depth1_1514638410_pa6_f150_map.fits'],\n",
       "       ['depth1_1514675189_pa5_f150_map.fits',\n",
       "        'depth1_1514675189_pa6_f150_map.fits'],\n",
       "       ['depth1_1514686641_pa5_f150_map.fits',\n",
       "        'depth1_1514686641_pa6_f150_map.fits'],\n",
       "       ['depth1_1514721969_pa5_f150_map.fits',\n",
       "        'depth1_1514721969_pa6_f150_map.fits'],\n",
       "       ['depth1_1514761590_pa5_f150_map.fits',\n",
       "        'depth1_1514761590_pa6_f150_map.fits'],\n",
       "       ['depth1_1514789181_pa5_f150_map.fits',\n",
       "        'depth1_1514789181_pa6_f150_map.fits'],\n",
       "       ['depth1_1514805150_pa5_f150_map.fits',\n",
       "        'depth1_1514805150_pa6_f150_map.fits'],\n",
       "       ['depth1_1514809990_pa5_f150_map.fits',\n",
       "        'depth1_1514809990_pa6_f150_map.fits'],\n",
       "       ['depth1_1514894295_pa5_f150_map.fits',\n",
       "        'depth1_1514894295_pa6_f150_map.fits'],\n",
       "       ['depth1_1515119369_pa5_f150_map.fits',\n",
       "        'depth1_1515119369_pa6_f150_map.fits'],\n",
       "       ['depth1_1515150389_pa5_f150_map.fits',\n",
       "        'depth1_1515150389_pa6_f150_map.fits'],\n",
       "       ['depth1_1515154645_pa5_f150_map.fits',\n",
       "        'depth1_1515154645_pa6_f150_map.fits'],\n",
       "       ['depth1_1515194615_pa5_f150_map.fits',\n",
       "        'depth1_1515194615_pa6_f150_map.fits'],\n",
       "       ['depth1_1515226705_pa5_f150_map.fits',\n",
       "        'depth1_1515226705_pa6_f150_map.fits'],\n",
       "       ['depth1_1515279990_pa5_f150_map.fits',\n",
       "        'depth1_1515279990_pa6_f150_map.fits'],\n",
       "       ['depth1_1515311374_pa5_f150_map.fits',\n",
       "        'depth1_1515311374_pa6_f150_map.fits'],\n",
       "       ['depth1_1515323194_pa5_f150_map.fits',\n",
       "        'depth1_1515323194_pa6_f150_map.fits'],\n",
       "       ['depth1_1515326976_pa5_f150_map.fits',\n",
       "        'depth1_1515326976_pa6_f150_map.fits'],\n",
       "       ['depth1_1515396862_pa5_f150_map.fits',\n",
       "        'depth1_1515396862_pa6_f150_map.fits'],\n",
       "       ['depth1_1515411284_pa5_f150_map.fits',\n",
       "        'depth1_1515411284_pa6_f150_map.fits'],\n",
       "       ['depth1_1515460226_pa5_f150_map.fits',\n",
       "        'depth1_1515460226_pa6_f150_map.fits'],\n",
       "       ['depth1_1515495990_pa5_f150_map.fits',\n",
       "        'depth1_1515495990_pa6_f150_map.fits'],\n",
       "       ['depth1_1515499301_pa5_f150_map.fits',\n",
       "        'depth1_1515499301_pa6_f150_map.fits'],\n",
       "       ['depth1_1515550089_pa5_f150_map.fits',\n",
       "        'depth1_1515550089_pa6_f150_map.fits'],\n",
       "       ['depth1_1564013189_pa5_f150_map.fits',\n",
       "        'depth1_1564013189_pa6_f150_map.fits']], dtype='<U35')"
      ]
     },
     "execution_count": 93,
     "metadata": {},
     "output_type": "execute_result"
    }
   ],
   "source": [
    "maps[all_pairs[pa5pa6_indices]]"
   ]
  },
  {
   "cell_type": "code",
   "execution_count": null,
   "id": "41d4a171",
   "metadata": {},
   "outputs": [],
   "source": []
  }
 ],
 "metadata": {
  "kernelspec": {
   "display_name": "Python 3 (ipykernel)",
   "language": "python",
   "name": "python3"
  },
  "language_info": {
   "codemirror_mode": {
    "name": "ipython",
    "version": 3
   },
   "file_extension": ".py",
   "mimetype": "text/x-python",
   "name": "python",
   "nbconvert_exporter": "python",
   "pygments_lexer": "ipython3",
   "version": "3.10.9"
  }
 },
 "nbformat": 4,
 "nbformat_minor": 5
}
